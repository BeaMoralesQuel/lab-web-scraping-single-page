{
 "cells": [
  {
   "cell_type": "markdown",
   "id": "0a482733",
   "metadata": {},
   "source": [
    "### PART 1: Web Scraping"
   ]
  },
  {
   "cell_type": "code",
   "execution_count": 1,
   "id": "85c96570",
   "metadata": {},
   "outputs": [],
   "source": [
    "# 1. import libraries\n",
    "from bs4 import BeautifulSoup\n",
    "import requests\n",
    "import pandas as pd\n",
    "import re\n",
    "import random\n",
    "from pandas.io.json import json_normalize\n",
    "import numpy as np\n",
    "import matplotlib.pyplot as plt\n",
    "from sklearn.preprocessing import StandardScaler\n",
    "import numpy as np\n",
    "from sklearn.metrics import silhouette_score\n",
    "from sklearn.model_selection import train_test_split\n",
    "from sklearn.decomposition import PCA    \n",
    "import matplotlib.pyplot as plt\n",
    "from sklearn.cluster import KMeans\n",
    "from sklearn.cluster import KMeans\n",
    "import numpy as np\n",
    "\n",
    "from random import randint\n",
    "from time import sleep\n",
    "\n",
    "import spotipy\n",
    "from spotipy.oauth2 import SpotifyClientCredentials"
   ]
  },
  {
   "cell_type": "code",
   "execution_count": 2,
   "id": "25d1ed2a",
   "metadata": {},
   "outputs": [],
   "source": [
    "#2. attribute url\n",
    "url = \"https://www.popvortex.com/music/charts/top-100-songs.php\""
   ]
  },
  {
   "cell_type": "code",
   "execution_count": 3,
   "id": "7ae883eb",
   "metadata": {},
   "outputs": [
    {
     "data": {
      "text/plain": [
       "200"
      ]
     },
     "execution_count": 3,
     "metadata": {},
     "output_type": "execute_result"
    }
   ],
   "source": [
    "# 3. download html with a get request\n",
    "response = requests.get(url)\n",
    "response.status_code # 200 status code means OK!"
   ]
  },
  {
   "cell_type": "code",
   "execution_count": 4,
   "id": "ede023ba",
   "metadata": {},
   "outputs": [],
   "source": [
    "# 4. parse html (create the 'soup')\n",
    "soup = BeautifulSoup(response.content, \"html.parser\")\n",
    "#soup"
   ]
  },
  {
   "cell_type": "code",
   "execution_count": 15,
   "id": "63662418",
   "metadata": {},
   "outputs": [
    {
     "ename": "IndexError",
     "evalue": "list index out of range",
     "output_type": "error",
     "traceback": [
      "\u001b[0;31m---------------------------------------------------------------------------\u001b[0m",
      "\u001b[0;31mIndexError\u001b[0m                                Traceback (most recent call last)",
      "Cell \u001b[0;32mIn[15], line 15\u001b[0m\n\u001b[1;32m     12\u001b[0m yearlist \u001b[38;5;241m=\u001b[39m soup\u001b[38;5;241m.\u001b[39mselect(\u001b[38;5;124m\"\u001b[39m\u001b[38;5;124mbody > div.container > div:nth-child(4) > div.col-xs-12.col-md-8 > div.chart-wrapper > div.feed-item > div.chart-content > ul > li:nth-child(2)\u001b[39m\u001b[38;5;124m\"\u001b[39m)\n\u001b[1;32m     14\u001b[0m \u001b[38;5;28;01mfor\u001b[39;00m i \u001b[38;5;129;01min\u001b[39;00m \u001b[38;5;28mrange\u001b[39m(\u001b[38;5;241m100\u001b[39m):\n\u001b[0;32m---> 15\u001b[0m     artist\u001b[38;5;241m.\u001b[39mappend(\u001b[43msongart\u001b[49m\u001b[43m[\u001b[49m\u001b[43mi\u001b[49m\u001b[43m]\u001b[49m\u001b[38;5;241m.\u001b[39mem\u001b[38;5;241m.\u001b[39mget_text())\n\u001b[1;32m     16\u001b[0m     song\u001b[38;5;241m.\u001b[39mappend(songart[i]\u001b[38;5;241m.\u001b[39mcite\u001b[38;5;241m.\u001b[39mget_text())\n\u001b[1;32m     17\u001b[0m     year\u001b[38;5;241m.\u001b[39mappend(yearlist[i]\u001b[38;5;241m.\u001b[39mget_text())    \n",
      "\u001b[0;31mIndexError\u001b[0m: list index out of range"
     ]
    }
   ],
   "source": [
    "#divide the different criteria into a different lists to be put into our final dataframe\n",
    "\n",
    "artist = []\n",
    "song = []\n",
    "genre = []\n",
    "year = []\n",
    "\n",
    "#num_iter = len(\"body > div.container > div:nth-child(4) > div.col-xs-12.col-md-8 > div.chart-wrapper > div.feed-item\")\n",
    "\n",
    "songart = soup.select(\"body > div.container > div:nth-child(4) > div.col-xs-12.col-md-8 > div.chart-wrapper > div.feed-item\")\n",
    "genlist = soup.select(\"body > div.container > div:nth-child(4) > div.col-xs-12.col-md-8 > div.chart-wrapper > div.feed-item > div.chart-content\")\n",
    "yearlist = soup.select(\"body > div.container > div:nth-child(4) > div.col-xs-12.col-md-8 > div.chart-wrapper > div.feed-item > div.chart-content > ul > li:nth-child(2)\")\n",
    "\n",
    "for i in range(100):\n",
    "    artist.append(songart[i].em.get_text())\n",
    "    song.append(songart[i].cite.get_text())\n",
    "    year.append(yearlist[i].get_text())    \n",
    "    try:\n",
    "        genre.append(genlist[i].ul.li.a.get_text())\n",
    "    except:\n",
    "        genre.append('Unknown')"
   ]
  },
  {
   "cell_type": "code",
   "execution_count": 14,
   "id": "b64c9190",
   "metadata": {},
   "outputs": [
    {
     "data": {
      "text/plain": [
       "98"
      ]
     },
     "execution_count": 14,
     "metadata": {},
     "output_type": "execute_result"
    }
   ],
   "source": [
    "len(soup.select(\"body > div.container > div:nth-child(4) > div.col-xs-12.col-md-8 > div.chart-wrapper > div.feed-item\"))"
   ]
  },
  {
   "cell_type": "code",
   "execution_count": 16,
   "id": "46afcb81",
   "metadata": {},
   "outputs": [],
   "source": [
    "#Attribute the lists to a dataframe\n",
    "\n",
    "top100 = pd.DataFrame({'artist':artist\n",
    "                    ,'track':song\n",
    "                    ,'genre':genre\n",
    "                    ,'year':year})"
   ]
  },
  {
   "cell_type": "code",
   "execution_count": 78,
   "id": "400793a6",
   "metadata": {},
   "outputs": [
    {
     "data": {
      "text/html": [
       "<div>\n",
       "<style scoped>\n",
       "    .dataframe tbody tr th:only-of-type {\n",
       "        vertical-align: middle;\n",
       "    }\n",
       "\n",
       "    .dataframe tbody tr th {\n",
       "        vertical-align: top;\n",
       "    }\n",
       "\n",
       "    .dataframe thead th {\n",
       "        text-align: right;\n",
       "    }\n",
       "</style>\n",
       "<table border=\"1\" class=\"dataframe\">\n",
       "  <thead>\n",
       "    <tr style=\"text-align: right;\">\n",
       "      <th></th>\n",
       "      <th>artist</th>\n",
       "      <th>track</th>\n",
       "      <th>genre</th>\n",
       "      <th>year</th>\n",
       "    </tr>\n",
       "  </thead>\n",
       "  <tbody>\n",
       "    <tr>\n",
       "      <th>0</th>\n",
       "      <td>oliver anthony music</td>\n",
       "      <td>rich men north of richmond</td>\n",
       "      <td>country</td>\n",
       "      <td>2023</td>\n",
       "    </tr>\n",
       "    <tr>\n",
       "      <th>1</th>\n",
       "      <td>jimmy buffett</td>\n",
       "      <td>margaritaville</td>\n",
       "      <td>unknown</td>\n",
       "      <td>1977</td>\n",
       "    </tr>\n",
       "    <tr>\n",
       "      <th>2</th>\n",
       "      <td>jimmy buffett</td>\n",
       "      <td>come monday</td>\n",
       "      <td>unknown</td>\n",
       "      <td>1974</td>\n",
       "    </tr>\n",
       "    <tr>\n",
       "      <th>3</th>\n",
       "      <td>zach bryan</td>\n",
       "      <td>i remember everything (feat. kacey musgraves)</td>\n",
       "      <td>country</td>\n",
       "      <td>2023</td>\n",
       "    </tr>\n",
       "    <tr>\n",
       "      <th>4</th>\n",
       "      <td>doja cat</td>\n",
       "      <td>paint the town red</td>\n",
       "      <td>unknown</td>\n",
       "      <td>2023</td>\n",
       "    </tr>\n",
       "    <tr>\n",
       "      <th>...</th>\n",
       "      <td>...</td>\n",
       "      <td>...</td>\n",
       "      <td>...</td>\n",
       "      <td>...</td>\n",
       "    </tr>\n",
       "    <tr>\n",
       "      <th>93</th>\n",
       "      <td>smash mouth</td>\n",
       "      <td>walkin' on the sun</td>\n",
       "      <td>pop</td>\n",
       "      <td>1997</td>\n",
       "    </tr>\n",
       "    <tr>\n",
       "      <th>94</th>\n",
       "      <td>jimmy buffett</td>\n",
       "      <td>one particular harbour</td>\n",
       "      <td>pop</td>\n",
       "      <td>1992</td>\n",
       "    </tr>\n",
       "    <tr>\n",
       "      <th>95</th>\n",
       "      <td>vy napi</td>\n",
       "      <td>i know a girl who sees me as poorer</td>\n",
       "      <td>unknown</td>\n",
       "      <td>2023</td>\n",
       "    </tr>\n",
       "    <tr>\n",
       "      <th>96</th>\n",
       "      <td>nicki minaj &amp; ice spice</td>\n",
       "      <td>barbie world (with aqua)</td>\n",
       "      <td>hip-hop / rap</td>\n",
       "      <td>2023</td>\n",
       "    </tr>\n",
       "    <tr>\n",
       "      <th>97</th>\n",
       "      <td>usher, summer walker &amp; 21 savage</td>\n",
       "      <td>good good</td>\n",
       "      <td>r&amp;b / soul</td>\n",
       "      <td>2023</td>\n",
       "    </tr>\n",
       "  </tbody>\n",
       "</table>\n",
       "<p>98 rows × 4 columns</p>\n",
       "</div>"
      ],
      "text/plain": [
       "                              artist  \\\n",
       "0               oliver anthony music   \n",
       "1                      jimmy buffett   \n",
       "2                      jimmy buffett   \n",
       "3                         zach bryan   \n",
       "4                           doja cat   \n",
       "..                               ...   \n",
       "93                       smash mouth   \n",
       "94                     jimmy buffett   \n",
       "95                           vy napi   \n",
       "96           nicki minaj & ice spice   \n",
       "97  usher, summer walker & 21 savage   \n",
       "\n",
       "                                            track          genre  year  \n",
       "0                      rich men north of richmond        country  2023  \n",
       "1                                  margaritaville        unknown  1977  \n",
       "2                                     come monday        unknown  1974  \n",
       "3   i remember everything (feat. kacey musgraves)        country  2023  \n",
       "4                              paint the town red        unknown  2023  \n",
       "..                                            ...            ...   ...  \n",
       "93                             walkin' on the sun            pop  1997  \n",
       "94                         one particular harbour            pop  1992  \n",
       "95            i know a girl who sees me as poorer        unknown  2023  \n",
       "96                       barbie world (with aqua)  hip-hop / rap  2023  \n",
       "97                                      good good     r&b / soul  2023  \n",
       "\n",
       "[98 rows x 4 columns]"
      ]
     },
     "execution_count": 78,
     "metadata": {},
     "output_type": "execute_result"
    }
   ],
   "source": [
    "#lower case all the values\n",
    "top100 = top100.apply(lambda top100: top100.str.lower() if(top100.dtype == 'object') else top100)\n",
    "top100"
   ]
  },
  {
   "cell_type": "code",
   "execution_count": 18,
   "id": "b5f5acaf",
   "metadata": {},
   "outputs": [],
   "source": [
    "#In the year column we have a Genre: leak. We will split these genres \n",
    "\n",
    "def genresplit(value):\n",
    "    if 'Genre:' in value:\n",
    "        name = value.split('Genre: ')[1]\n",
    "        \n",
    "        return name\n",
    "    else:\n",
    "        return value"
   ]
  },
  {
   "cell_type": "code",
   "execution_count": 19,
   "id": "37a2bd73",
   "metadata": {},
   "outputs": [],
   "source": [
    "#and move these genres \n",
    "top100['genre'] = top100['genre'].apply(genresplit)\n",
    "top100['year'] = top100['year'].apply(genresplit)"
   ]
  },
  {
   "cell_type": "code",
   "execution_count": 20,
   "id": "888aca02",
   "metadata": {},
   "outputs": [],
   "source": [
    "def tidy(value):\n",
    "\n",
    "    type1 = value['genre']\n",
    "    type2 = value['year']\n",
    "    if str(type1) == 'New Release':\n",
    "        return type2\n",
    "    else:\n",
    "        return type1\n",
    "\n",
    "    \n",
    "top100['genre'] = top100.apply(tidy,axis=1)"
   ]
  },
  {
   "cell_type": "code",
   "execution_count": 21,
   "id": "b45a662b",
   "metadata": {},
   "outputs": [],
   "source": [
    "#Now we are going to split the year column by the comma and find the year value. \"Nan\" values filled with 2023, because it was originally a \"New Release\" value\n",
    "top100['year'] = top100['year'].str.split(\", \", n = 1, expand = True)[1]\n",
    "top100['year'] = top100['year'].fillna(2023)\n",
    "top100['track'] = top100['track'].str.strip()"
   ]
  },
  {
   "cell_type": "code",
   "execution_count": 79,
   "id": "01fc08c1",
   "metadata": {},
   "outputs": [
    {
     "data": {
      "text/html": [
       "<div>\n",
       "<style scoped>\n",
       "    .dataframe tbody tr th:only-of-type {\n",
       "        vertical-align: middle;\n",
       "    }\n",
       "\n",
       "    .dataframe tbody tr th {\n",
       "        vertical-align: top;\n",
       "    }\n",
       "\n",
       "    .dataframe thead th {\n",
       "        text-align: right;\n",
       "    }\n",
       "</style>\n",
       "<table border=\"1\" class=\"dataframe\">\n",
       "  <thead>\n",
       "    <tr style=\"text-align: right;\">\n",
       "      <th></th>\n",
       "      <th>artist</th>\n",
       "      <th>track</th>\n",
       "      <th>genre</th>\n",
       "      <th>year</th>\n",
       "    </tr>\n",
       "  </thead>\n",
       "  <tbody>\n",
       "    <tr>\n",
       "      <th>0</th>\n",
       "      <td>oliver anthony music</td>\n",
       "      <td>rich men north of richmond</td>\n",
       "      <td>country</td>\n",
       "      <td>2023</td>\n",
       "    </tr>\n",
       "    <tr>\n",
       "      <th>1</th>\n",
       "      <td>jimmy buffett</td>\n",
       "      <td>margaritaville</td>\n",
       "      <td>unknown</td>\n",
       "      <td>1977</td>\n",
       "    </tr>\n",
       "    <tr>\n",
       "      <th>2</th>\n",
       "      <td>jimmy buffett</td>\n",
       "      <td>come monday</td>\n",
       "      <td>unknown</td>\n",
       "      <td>1974</td>\n",
       "    </tr>\n",
       "    <tr>\n",
       "      <th>3</th>\n",
       "      <td>zach bryan</td>\n",
       "      <td>i remember everything (feat. kacey musgraves)</td>\n",
       "      <td>country</td>\n",
       "      <td>2023</td>\n",
       "    </tr>\n",
       "    <tr>\n",
       "      <th>4</th>\n",
       "      <td>doja cat</td>\n",
       "      <td>paint the town red</td>\n",
       "      <td>unknown</td>\n",
       "      <td>2023</td>\n",
       "    </tr>\n",
       "    <tr>\n",
       "      <th>...</th>\n",
       "      <td>...</td>\n",
       "      <td>...</td>\n",
       "      <td>...</td>\n",
       "      <td>...</td>\n",
       "    </tr>\n",
       "    <tr>\n",
       "      <th>93</th>\n",
       "      <td>smash mouth</td>\n",
       "      <td>walkin' on the sun</td>\n",
       "      <td>pop</td>\n",
       "      <td>1997</td>\n",
       "    </tr>\n",
       "    <tr>\n",
       "      <th>94</th>\n",
       "      <td>jimmy buffett</td>\n",
       "      <td>one particular harbour</td>\n",
       "      <td>pop</td>\n",
       "      <td>1992</td>\n",
       "    </tr>\n",
       "    <tr>\n",
       "      <th>95</th>\n",
       "      <td>vy napi</td>\n",
       "      <td>i know a girl who sees me as poorer</td>\n",
       "      <td>unknown</td>\n",
       "      <td>2023</td>\n",
       "    </tr>\n",
       "    <tr>\n",
       "      <th>96</th>\n",
       "      <td>nicki minaj &amp; ice spice</td>\n",
       "      <td>barbie world (with aqua)</td>\n",
       "      <td>hip-hop / rap</td>\n",
       "      <td>2023</td>\n",
       "    </tr>\n",
       "    <tr>\n",
       "      <th>97</th>\n",
       "      <td>usher, summer walker &amp; 21 savage</td>\n",
       "      <td>good good</td>\n",
       "      <td>r&amp;b / soul</td>\n",
       "      <td>2023</td>\n",
       "    </tr>\n",
       "  </tbody>\n",
       "</table>\n",
       "<p>98 rows × 4 columns</p>\n",
       "</div>"
      ],
      "text/plain": [
       "                              artist  \\\n",
       "0               oliver anthony music   \n",
       "1                      jimmy buffett   \n",
       "2                      jimmy buffett   \n",
       "3                         zach bryan   \n",
       "4                           doja cat   \n",
       "..                               ...   \n",
       "93                       smash mouth   \n",
       "94                     jimmy buffett   \n",
       "95                           vy napi   \n",
       "96           nicki minaj & ice spice   \n",
       "97  usher, summer walker & 21 savage   \n",
       "\n",
       "                                            track          genre  year  \n",
       "0                      rich men north of richmond        country  2023  \n",
       "1                                  margaritaville        unknown  1977  \n",
       "2                                     come monday        unknown  1974  \n",
       "3   i remember everything (feat. kacey musgraves)        country  2023  \n",
       "4                              paint the town red        unknown  2023  \n",
       "..                                            ...            ...   ...  \n",
       "93                             walkin' on the sun            pop  1997  \n",
       "94                         one particular harbour            pop  1992  \n",
       "95            i know a girl who sees me as poorer        unknown  2023  \n",
       "96                       barbie world (with aqua)  hip-hop / rap  2023  \n",
       "97                                      good good     r&b / soul  2023  \n",
       "\n",
       "[98 rows x 4 columns]"
      ]
     },
     "execution_count": 79,
     "metadata": {},
     "output_type": "execute_result"
    }
   ],
   "source": [
    "top100"
   ]
  },
  {
   "cell_type": "code",
   "execution_count": 80,
   "id": "3020e3a1",
   "metadata": {},
   "outputs": [],
   "source": [
    "top100.to_csv('top100_from_PopVortex.csv', index = False)"
   ]
  },
  {
   "cell_type": "markdown",
   "id": "9e19ef40",
   "metadata": {},
   "source": [
    "### PART 2: the recommender"
   ]
  },
  {
   "cell_type": "markdown",
   "id": "cb8a0f43",
   "metadata": {},
   "source": [
    "The first steps you took yesterday, were to create a list of Top Songs and Artists from scraping web sites.\n",
    "\n",
    " You should have ended with your lists in a data frame containing at least Song Title and Artist.\n",
    "\n",
    "Today you are creating a recommender where the user inputs a song title and check if that song is in the list you created.   If it is,  give a different random song and artist from the list.  If it is not on the list, let the user know that you have no recommendation at this time"
   ]
  },
  {
   "cell_type": "code",
   "execution_count": 81,
   "id": "01ad4232",
   "metadata": {},
   "outputs": [],
   "source": [
    "def music_recommender():\n",
    "    song = input(\"write the name of a song: \")    \n",
    "    if song in list(top100['track']):\n",
    "        print(top100['track'].iloc[random.randint(0,100)])    \n",
    "    elif song not in list(top100['track']):\n",
    "        print(\"Sorry, we cannot recommend any songs\")"
   ]
  },
  {
   "cell_type": "code",
   "execution_count": 82,
   "id": "5d910fa1",
   "metadata": {},
   "outputs": [
    {
     "name": "stdout",
     "output_type": "stream",
     "text": [
      "write the name of a song: good good\n",
      "calm down\n"
     ]
    }
   ],
   "source": [
    "music_recommender()"
   ]
  },
  {
   "cell_type": "markdown",
   "id": "091fc73e",
   "metadata": {},
   "source": [
    "### PART 3: Spotify API"
   ]
  },
  {
   "cell_type": "markdown",
   "id": "0834cac4",
   "metadata": {},
   "source": [
    "To move forward with the project, you need to create a collection of songs with their audio features - as large as possible!"
   ]
  },
  {
   "cell_type": "code",
   "execution_count": 62,
   "id": "5be43721",
   "metadata": {},
   "outputs": [],
   "source": [
    "#1. Import the spotipy library and access account\n",
    "\n",
    "secrets_file = open(\"secrets.txt\",\"r\")"
   ]
  },
  {
   "cell_type": "code",
   "execution_count": 63,
   "id": "08cea194",
   "metadata": {},
   "outputs": [],
   "source": [
    "string = secrets_file.read()\n",
    "#string.split('\\n')"
   ]
  },
  {
   "cell_type": "code",
   "execution_count": 64,
   "id": "a0a134b8",
   "metadata": {},
   "outputs": [],
   "source": [
    "secrets_dict={}\n",
    "for line in string.split('\\n'):\n",
    "    if len(line) > 0:\n",
    "        secrets_dict[line.split(':')[0]]=line.split(':')[1]"
   ]
  },
  {
   "cell_type": "code",
   "execution_count": 43,
   "id": "b6e5c88e",
   "metadata": {},
   "outputs": [],
   "source": [
    "#secrets_dict"
   ]
  },
  {
   "cell_type": "markdown",
   "id": "61577f3f",
   "metadata": {},
   "source": [
    "#### authentication with secrets"
   ]
  },
  {
   "cell_type": "code",
   "execution_count": 65,
   "id": "3622badb",
   "metadata": {},
   "outputs": [],
   "source": [
    "#InitializeSpotiPy with user credentials\n",
    "sp = spotipy.Spotify(auth_manager=SpotifyClientCredentials(client_id=secrets_dict['clientid'],\n",
    "                                                           client_secret=secrets_dict['clientsecret']))"
   ]
  },
  {
   "cell_type": "markdown",
   "id": "bcfe3122",
   "metadata": {},
   "source": [
    "Use Jan's code to get the playlist information. I selected two lists, to have as much info as possible."
   ]
  },
  {
   "cell_type": "code",
   "execution_count": 66,
   "id": "29988d60",
   "metadata": {},
   "outputs": [],
   "source": [
    "def get_playlist_tracks(playlist_id):\n",
    "    results = sp.user_playlist_tracks(\"spotify\",playlist_id)\n",
    "    tracks = results['items']\n",
    "    while results['next']!=None:\n",
    "        results = sp.next(results)\n",
    "        tracks = tracks + results['items']\n",
    "        sleep(randint(1,3))\n",
    "    return tracks"
   ]
  },
  {
   "cell_type": "code",
   "execution_count": 67,
   "id": "a97591f9",
   "metadata": {},
   "outputs": [
    {
     "name": "stdout",
     "output_type": "stream",
     "text": [
      "CPU times: user 3.7 s, sys: 2.39 s, total: 6.1 s\n",
      "Wall time: 5min 22s\n"
     ]
    }
   ],
   "source": [
    "%%time\n",
    "playlist1 = get_playlist_tracks(\"6tIxyT1Gq6O7DK7rIEUEZo\")\n",
    "playlist2 = get_playlist_tracks(\"4pbDDX7np7Q1H0ghL7U9o7\")"
   ]
  },
  {
   "cell_type": "code",
   "execution_count": 34,
   "id": "423e53a3",
   "metadata": {},
   "outputs": [],
   "source": [
    "#playlist1"
   ]
  },
  {
   "cell_type": "code",
   "execution_count": 50,
   "id": "25925e16",
   "metadata": {},
   "outputs": [
    {
     "name": "stdout",
     "output_type": "stream",
     "text": [
      "no. 1     9999\n",
      "no. 2     3878\n",
      "total is 13877\n"
     ]
    }
   ],
   "source": [
    "#total songs (probably we have to check for duplicates)\n",
    "\n",
    "print('no. 1    ',len(playlist1))\n",
    "print('no. 2    ',len(playlist2))\n",
    "print('total is',len(playlist1)+len(playlist2))"
   ]
  },
  {
   "cell_type": "markdown",
   "id": "19bad228",
   "metadata": {},
   "source": [
    "Create a function to extract all necessary information from the dictionaries (and apply)"
   ]
  },
  {
   "cell_type": "code",
   "execution_count": 68,
   "id": "a92f1eef",
   "metadata": {},
   "outputs": [],
   "source": [
    "from tqdm import tqdm\n",
    "\n",
    "def artist_song(x):\n",
    "    artist = []\n",
    "    song = []\n",
    "    features = []\n",
    "    counter = 0\n",
    "    for i in tqdm(x):\n",
    "        song.append(x[counter]['track']['name'])\n",
    "        artist.append(x[counter]['track']['artists'][0]['name'])\n",
    "        features.append(x[counter][\"track\"][\"uri\"])\n",
    "        \n",
    "        #features.append(sp.audio_features(x[counter][\"track\"][\"uri\"]))\n",
    "        counter += 1\n",
    "    return pd.DataFrame({'artist': artist, 'song': song, 'features': features})"
   ]
  },
  {
   "cell_type": "code",
   "execution_count": null,
   "id": "ca8e0444",
   "metadata": {},
   "outputs": [],
   "source": []
  },
  {
   "cell_type": "markdown",
   "id": "3e071e39",
   "metadata": {},
   "source": [
    "Now we use the function we just created in both lists and export them to .csv files."
   ]
  },
  {
   "cell_type": "code",
   "execution_count": 54,
   "id": "d75002d7",
   "metadata": {},
   "outputs": [
    {
     "name": "stdout",
     "output_type": "stream",
     "text": [
      "CPU times: user 8.58 ms, sys: 12.1 ms, total: 20.7 ms\n",
      "Wall time: 20.7 ms\n"
     ]
    }
   ],
   "source": [
    "%%time\n",
    "df_playlist2 = artist_song(playlist2)"
   ]
  },
  {
   "cell_type": "code",
   "execution_count": 55,
   "id": "f14edabd",
   "metadata": {},
   "outputs": [
    {
     "data": {
      "text/html": [
       "<div>\n",
       "<style scoped>\n",
       "    .dataframe tbody tr th:only-of-type {\n",
       "        vertical-align: middle;\n",
       "    }\n",
       "\n",
       "    .dataframe tbody tr th {\n",
       "        vertical-align: top;\n",
       "    }\n",
       "\n",
       "    .dataframe thead th {\n",
       "        text-align: right;\n",
       "    }\n",
       "</style>\n",
       "<table border=\"1\" class=\"dataframe\">\n",
       "  <thead>\n",
       "    <tr style=\"text-align: right;\">\n",
       "      <th></th>\n",
       "      <th>artist</th>\n",
       "      <th>song</th>\n",
       "      <th>features</th>\n",
       "    </tr>\n",
       "  </thead>\n",
       "  <tbody>\n",
       "    <tr>\n",
       "      <th>0</th>\n",
       "      <td>ANGRA</td>\n",
       "      <td>Live and Learn</td>\n",
       "      <td>spotify:track:5LZci9wxIwwvF9qh8cMpHS</td>\n",
       "    </tr>\n",
       "    <tr>\n",
       "      <th>1</th>\n",
       "      <td>ANGRA</td>\n",
       "      <td>Bleeding Heart</td>\n",
       "      <td>spotify:track:4m2HvlrZ1kKsgFpcLh5h0V</td>\n",
       "    </tr>\n",
       "    <tr>\n",
       "      <th>2</th>\n",
       "      <td>ANGRA</td>\n",
       "      <td>Hunters and Prey</td>\n",
       "      <td>spotify:track:3Gs5F9IN5BEhU8jhdr5KrQ</td>\n",
       "    </tr>\n",
       "    <tr>\n",
       "      <th>3</th>\n",
       "      <td>ANGRA</td>\n",
       "      <td>Eyes of Christ</td>\n",
       "      <td>spotify:track:2ahYaznOR2pfAu6voMj3T7</td>\n",
       "    </tr>\n",
       "    <tr>\n",
       "      <th>4</th>\n",
       "      <td>ANGRA</td>\n",
       "      <td>Rebirth (Acoustic Version)</td>\n",
       "      <td>spotify:track:3tQWuqbfcQumQL3KHfOM3C</td>\n",
       "    </tr>\n",
       "    <tr>\n",
       "      <th>...</th>\n",
       "      <td>...</td>\n",
       "      <td>...</td>\n",
       "      <td>...</td>\n",
       "    </tr>\n",
       "    <tr>\n",
       "      <th>3873</th>\n",
       "      <td>Fleetwood Mac</td>\n",
       "      <td>Family Man</td>\n",
       "      <td>spotify:track:7FaarqLNsZlFsRMQjjX5QR</td>\n",
       "    </tr>\n",
       "    <tr>\n",
       "      <th>3874</th>\n",
       "      <td>Fleetwood Mac</td>\n",
       "      <td>Welcome To The Room...Sara</td>\n",
       "      <td>spotify:track:5H1EXMKjBFlI5F9QkCD6Ft</td>\n",
       "    </tr>\n",
       "    <tr>\n",
       "      <th>3875</th>\n",
       "      <td>Fleetwood Mac</td>\n",
       "      <td>Isn't It Midnight</td>\n",
       "      <td>spotify:track:2icOTC7sCLZSDVbCPJ6olG</td>\n",
       "    </tr>\n",
       "    <tr>\n",
       "      <th>3876</th>\n",
       "      <td>Fleetwood Mac</td>\n",
       "      <td>When I See You Again</td>\n",
       "      <td>spotify:track:0QE9gbtUuiSJIqclW9N2TQ</td>\n",
       "    </tr>\n",
       "    <tr>\n",
       "      <th>3877</th>\n",
       "      <td>Fleetwood Mac</td>\n",
       "      <td>You And I, Part II</td>\n",
       "      <td>spotify:track:01pmYrV2NrQBivoGxXjzl3</td>\n",
       "    </tr>\n",
       "  </tbody>\n",
       "</table>\n",
       "<p>3878 rows × 3 columns</p>\n",
       "</div>"
      ],
      "text/plain": [
       "             artist                        song  \\\n",
       "0             ANGRA              Live and Learn   \n",
       "1             ANGRA              Bleeding Heart   \n",
       "2             ANGRA            Hunters and Prey   \n",
       "3             ANGRA              Eyes of Christ   \n",
       "4             ANGRA  Rebirth (Acoustic Version)   \n",
       "...             ...                         ...   \n",
       "3873  Fleetwood Mac                  Family Man   \n",
       "3874  Fleetwood Mac  Welcome To The Room...Sara   \n",
       "3875  Fleetwood Mac           Isn't It Midnight   \n",
       "3876  Fleetwood Mac        When I See You Again   \n",
       "3877  Fleetwood Mac          You And I, Part II   \n",
       "\n",
       "                                  features  \n",
       "0     spotify:track:5LZci9wxIwwvF9qh8cMpHS  \n",
       "1     spotify:track:4m2HvlrZ1kKsgFpcLh5h0V  \n",
       "2     spotify:track:3Gs5F9IN5BEhU8jhdr5KrQ  \n",
       "3     spotify:track:2ahYaznOR2pfAu6voMj3T7  \n",
       "4     spotify:track:3tQWuqbfcQumQL3KHfOM3C  \n",
       "...                                    ...  \n",
       "3873  spotify:track:7FaarqLNsZlFsRMQjjX5QR  \n",
       "3874  spotify:track:5H1EXMKjBFlI5F9QkCD6Ft  \n",
       "3875  spotify:track:2icOTC7sCLZSDVbCPJ6olG  \n",
       "3876  spotify:track:0QE9gbtUuiSJIqclW9N2TQ  \n",
       "3877  spotify:track:01pmYrV2NrQBivoGxXjzl3  \n",
       "\n",
       "[3878 rows x 3 columns]"
      ]
     },
     "execution_count": 55,
     "metadata": {},
     "output_type": "execute_result"
    }
   ],
   "source": [
    "df_playlist2"
   ]
  },
  {
   "cell_type": "code",
   "execution_count": 58,
   "id": "5bac3138",
   "metadata": {},
   "outputs": [],
   "source": [
    "df_playlist2.to_csv('playlist2.csv',index = False)"
   ]
  },
  {
   "cell_type": "code",
   "execution_count": 56,
   "id": "ae19e704",
   "metadata": {},
   "outputs": [
    {
     "name": "stdout",
     "output_type": "stream",
     "text": [
      "CPU times: user 20.9 ms, sys: 12.8 ms, total: 33.7 ms\n",
      "Wall time: 34.9 ms\n"
     ]
    }
   ],
   "source": [
    "%%time\n",
    "df_playlist1 = artist_song(playlist1)"
   ]
  },
  {
   "cell_type": "code",
   "execution_count": 59,
   "id": "1b609e9e",
   "metadata": {},
   "outputs": [],
   "source": [
    "df_playlist1.to_csv('playlist1.csv',index = False)"
   ]
  },
  {
   "cell_type": "code",
   "execution_count": 57,
   "id": "ed644423",
   "metadata": {},
   "outputs": [
    {
     "data": {
      "text/html": [
       "<div>\n",
       "<style scoped>\n",
       "    .dataframe tbody tr th:only-of-type {\n",
       "        vertical-align: middle;\n",
       "    }\n",
       "\n",
       "    .dataframe tbody tr th {\n",
       "        vertical-align: top;\n",
       "    }\n",
       "\n",
       "    .dataframe thead th {\n",
       "        text-align: right;\n",
       "    }\n",
       "</style>\n",
       "<table border=\"1\" class=\"dataframe\">\n",
       "  <thead>\n",
       "    <tr style=\"text-align: right;\">\n",
       "      <th></th>\n",
       "      <th>artist</th>\n",
       "      <th>song</th>\n",
       "      <th>features</th>\n",
       "    </tr>\n",
       "  </thead>\n",
       "  <tbody>\n",
       "    <tr>\n",
       "      <th>0</th>\n",
       "      <td>Queen</td>\n",
       "      <td>A Kind Of Magic - Remastered 2011</td>\n",
       "      <td>spotify:track:5RYLa5P4qweEAKq5U1gdcK</td>\n",
       "    </tr>\n",
       "    <tr>\n",
       "      <th>1</th>\n",
       "      <td>Queen</td>\n",
       "      <td>Bohemian Rhapsody - Remastered 2011</td>\n",
       "      <td>spotify:track:4u7EnebtmKWzUH433cf5Qv</td>\n",
       "    </tr>\n",
       "    <tr>\n",
       "      <th>2</th>\n",
       "      <td>Queen</td>\n",
       "      <td>Another One Bites The Dust - Remastered 2011</td>\n",
       "      <td>spotify:track:5vdp5UmvTsnMEMESIF2Ym7</td>\n",
       "    </tr>\n",
       "    <tr>\n",
       "      <th>3</th>\n",
       "      <td>Queen</td>\n",
       "      <td>Don't Stop Me Now - Remastered 2011</td>\n",
       "      <td>spotify:track:5T8EDUDqKcs6OSOwEsfqG7</td>\n",
       "    </tr>\n",
       "    <tr>\n",
       "      <th>4</th>\n",
       "      <td>Queen</td>\n",
       "      <td>Under Pressure - Remastered 2011</td>\n",
       "      <td>spotify:track:2fuCquhmrzHpu5xcA1ci9x</td>\n",
       "    </tr>\n",
       "    <tr>\n",
       "      <th>...</th>\n",
       "      <td>...</td>\n",
       "      <td>...</td>\n",
       "      <td>...</td>\n",
       "    </tr>\n",
       "    <tr>\n",
       "      <th>9994</th>\n",
       "      <td>Kip Winger</td>\n",
       "      <td>California - From the Moon to the Sun</td>\n",
       "      <td>spotify:track:2STE3vIHHIgz9TNB5aJGC1</td>\n",
       "    </tr>\n",
       "    <tr>\n",
       "      <th>9995</th>\n",
       "      <td>Kip Winger</td>\n",
       "      <td>What We Are - From the Moon to the Sun</td>\n",
       "      <td>spotify:track:3pQJKvK6hmVPzDXRv67PCo</td>\n",
       "    </tr>\n",
       "    <tr>\n",
       "      <th>9996</th>\n",
       "      <td>Kip Winger</td>\n",
       "      <td>One Big Game - From the Moon to the Sun</td>\n",
       "      <td>spotify:track:03P0IMmk5nXRyrhh0YpTfc</td>\n",
       "    </tr>\n",
       "    <tr>\n",
       "      <th>9997</th>\n",
       "      <td>Kip Winger</td>\n",
       "      <td>Why - From the Moon to the Sun</td>\n",
       "      <td>spotify:track:70Hf4cnE286JKpi3lwRb1w</td>\n",
       "    </tr>\n",
       "    <tr>\n",
       "      <th>9998</th>\n",
       "      <td>Kip Winger</td>\n",
       "      <td>Reason to Believe - From the Moon to the Sun</td>\n",
       "      <td>spotify:track:3eHox3muLGkKxUGgUfy3mH</td>\n",
       "    </tr>\n",
       "  </tbody>\n",
       "</table>\n",
       "<p>9999 rows × 3 columns</p>\n",
       "</div>"
      ],
      "text/plain": [
       "          artist                                          song  \\\n",
       "0          Queen             A Kind Of Magic - Remastered 2011   \n",
       "1          Queen           Bohemian Rhapsody - Remastered 2011   \n",
       "2          Queen  Another One Bites The Dust - Remastered 2011   \n",
       "3          Queen           Don't Stop Me Now - Remastered 2011   \n",
       "4          Queen              Under Pressure - Remastered 2011   \n",
       "...          ...                                           ...   \n",
       "9994  Kip Winger         California - From the Moon to the Sun   \n",
       "9995  Kip Winger        What We Are - From the Moon to the Sun   \n",
       "9996  Kip Winger       One Big Game - From the Moon to the Sun   \n",
       "9997  Kip Winger                Why - From the Moon to the Sun   \n",
       "9998  Kip Winger  Reason to Believe - From the Moon to the Sun   \n",
       "\n",
       "                                  features  \n",
       "0     spotify:track:5RYLa5P4qweEAKq5U1gdcK  \n",
       "1     spotify:track:4u7EnebtmKWzUH433cf5Qv  \n",
       "2     spotify:track:5vdp5UmvTsnMEMESIF2Ym7  \n",
       "3     spotify:track:5T8EDUDqKcs6OSOwEsfqG7  \n",
       "4     spotify:track:2fuCquhmrzHpu5xcA1ci9x  \n",
       "...                                    ...  \n",
       "9994  spotify:track:2STE3vIHHIgz9TNB5aJGC1  \n",
       "9995  spotify:track:3pQJKvK6hmVPzDXRv67PCo  \n",
       "9996  spotify:track:03P0IMmk5nXRyrhh0YpTfc  \n",
       "9997  spotify:track:70Hf4cnE286JKpi3lwRb1w  \n",
       "9998  spotify:track:3eHox3muLGkKxUGgUfy3mH  \n",
       "\n",
       "[9999 rows x 3 columns]"
      ]
     },
     "execution_count": 57,
     "metadata": {},
     "output_type": "execute_result"
    }
   ],
   "source": [
    "df_playlist1"
   ]
  },
  {
   "cell_type": "code",
   "execution_count": null,
   "id": "aa49c87e",
   "metadata": {},
   "outputs": [],
   "source": [
    "#Now we have to extract features information"
   ]
  },
  {
   "cell_type": "code",
   "execution_count": 61,
   "id": "a6b30926",
   "metadata": {},
   "outputs": [
    {
     "name": "stderr",
     "output_type": "stream",
     "text": [
      "Max Retries reached\n"
     ]
    },
    {
     "ename": "SpotifyException",
     "evalue": "http status: 429, code:-1 - /v1/audio-features/?ids=6dF0As4WbZDImIEfDfwXOb:\n Max Retries, reason: too many 429 error responses",
     "output_type": "error",
     "traceback": [
      "\u001b[0;31m---------------------------------------------------------------------------\u001b[0m",
      "\u001b[0;31mMaxRetryError\u001b[0m                             Traceback (most recent call last)",
      "File \u001b[0;32m~/anaconda3/lib/python3.10/site-packages/requests/adapters.py:489\u001b[0m, in \u001b[0;36mHTTPAdapter.send\u001b[0;34m(self, request, stream, timeout, verify, cert, proxies)\u001b[0m\n\u001b[1;32m    488\u001b[0m \u001b[38;5;28;01mif\u001b[39;00m \u001b[38;5;129;01mnot\u001b[39;00m chunked:\n\u001b[0;32m--> 489\u001b[0m     resp \u001b[38;5;241m=\u001b[39m \u001b[43mconn\u001b[49m\u001b[38;5;241;43m.\u001b[39;49m\u001b[43murlopen\u001b[49m\u001b[43m(\u001b[49m\n\u001b[1;32m    490\u001b[0m \u001b[43m        \u001b[49m\u001b[43mmethod\u001b[49m\u001b[38;5;241;43m=\u001b[39;49m\u001b[43mrequest\u001b[49m\u001b[38;5;241;43m.\u001b[39;49m\u001b[43mmethod\u001b[49m\u001b[43m,\u001b[49m\n\u001b[1;32m    491\u001b[0m \u001b[43m        \u001b[49m\u001b[43murl\u001b[49m\u001b[38;5;241;43m=\u001b[39;49m\u001b[43murl\u001b[49m\u001b[43m,\u001b[49m\n\u001b[1;32m    492\u001b[0m \u001b[43m        \u001b[49m\u001b[43mbody\u001b[49m\u001b[38;5;241;43m=\u001b[39;49m\u001b[43mrequest\u001b[49m\u001b[38;5;241;43m.\u001b[39;49m\u001b[43mbody\u001b[49m\u001b[43m,\u001b[49m\n\u001b[1;32m    493\u001b[0m \u001b[43m        \u001b[49m\u001b[43mheaders\u001b[49m\u001b[38;5;241;43m=\u001b[39;49m\u001b[43mrequest\u001b[49m\u001b[38;5;241;43m.\u001b[39;49m\u001b[43mheaders\u001b[49m\u001b[43m,\u001b[49m\n\u001b[1;32m    494\u001b[0m \u001b[43m        \u001b[49m\u001b[43mredirect\u001b[49m\u001b[38;5;241;43m=\u001b[39;49m\u001b[38;5;28;43;01mFalse\u001b[39;49;00m\u001b[43m,\u001b[49m\n\u001b[1;32m    495\u001b[0m \u001b[43m        \u001b[49m\u001b[43massert_same_host\u001b[49m\u001b[38;5;241;43m=\u001b[39;49m\u001b[38;5;28;43;01mFalse\u001b[39;49;00m\u001b[43m,\u001b[49m\n\u001b[1;32m    496\u001b[0m \u001b[43m        \u001b[49m\u001b[43mpreload_content\u001b[49m\u001b[38;5;241;43m=\u001b[39;49m\u001b[38;5;28;43;01mFalse\u001b[39;49;00m\u001b[43m,\u001b[49m\n\u001b[1;32m    497\u001b[0m \u001b[43m        \u001b[49m\u001b[43mdecode_content\u001b[49m\u001b[38;5;241;43m=\u001b[39;49m\u001b[38;5;28;43;01mFalse\u001b[39;49;00m\u001b[43m,\u001b[49m\n\u001b[1;32m    498\u001b[0m \u001b[43m        \u001b[49m\u001b[43mretries\u001b[49m\u001b[38;5;241;43m=\u001b[39;49m\u001b[38;5;28;43mself\u001b[39;49m\u001b[38;5;241;43m.\u001b[39;49m\u001b[43mmax_retries\u001b[49m\u001b[43m,\u001b[49m\n\u001b[1;32m    499\u001b[0m \u001b[43m        \u001b[49m\u001b[43mtimeout\u001b[49m\u001b[38;5;241;43m=\u001b[39;49m\u001b[43mtimeout\u001b[49m\u001b[43m,\u001b[49m\n\u001b[1;32m    500\u001b[0m \u001b[43m    \u001b[49m\u001b[43m)\u001b[49m\n\u001b[1;32m    502\u001b[0m \u001b[38;5;66;03m# Send the request.\u001b[39;00m\n\u001b[1;32m    503\u001b[0m \u001b[38;5;28;01melse\u001b[39;00m:\n",
      "File \u001b[0;32m~/anaconda3/lib/python3.10/site-packages/urllib3/connectionpool.py:878\u001b[0m, in \u001b[0;36mHTTPConnectionPool.urlopen\u001b[0;34m(self, method, url, body, headers, retries, redirect, assert_same_host, timeout, pool_timeout, release_conn, chunked, body_pos, **response_kw)\u001b[0m\n\u001b[1;32m    877\u001b[0m     log\u001b[38;5;241m.\u001b[39mdebug(\u001b[38;5;124m\"\u001b[39m\u001b[38;5;124mRetry: \u001b[39m\u001b[38;5;132;01m%s\u001b[39;00m\u001b[38;5;124m\"\u001b[39m, url)\n\u001b[0;32m--> 878\u001b[0m     \u001b[38;5;28;01mreturn\u001b[39;00m \u001b[38;5;28;43mself\u001b[39;49m\u001b[38;5;241;43m.\u001b[39;49m\u001b[43murlopen\u001b[49m\u001b[43m(\u001b[49m\n\u001b[1;32m    879\u001b[0m \u001b[43m        \u001b[49m\u001b[43mmethod\u001b[49m\u001b[43m,\u001b[49m\n\u001b[1;32m    880\u001b[0m \u001b[43m        \u001b[49m\u001b[43murl\u001b[49m\u001b[43m,\u001b[49m\n\u001b[1;32m    881\u001b[0m \u001b[43m        \u001b[49m\u001b[43mbody\u001b[49m\u001b[43m,\u001b[49m\n\u001b[1;32m    882\u001b[0m \u001b[43m        \u001b[49m\u001b[43mheaders\u001b[49m\u001b[43m,\u001b[49m\n\u001b[1;32m    883\u001b[0m \u001b[43m        \u001b[49m\u001b[43mretries\u001b[49m\u001b[38;5;241;43m=\u001b[39;49m\u001b[43mretries\u001b[49m\u001b[43m,\u001b[49m\n\u001b[1;32m    884\u001b[0m \u001b[43m        \u001b[49m\u001b[43mredirect\u001b[49m\u001b[38;5;241;43m=\u001b[39;49m\u001b[43mredirect\u001b[49m\u001b[43m,\u001b[49m\n\u001b[1;32m    885\u001b[0m \u001b[43m        \u001b[49m\u001b[43massert_same_host\u001b[49m\u001b[38;5;241;43m=\u001b[39;49m\u001b[43massert_same_host\u001b[49m\u001b[43m,\u001b[49m\n\u001b[1;32m    886\u001b[0m \u001b[43m        \u001b[49m\u001b[43mtimeout\u001b[49m\u001b[38;5;241;43m=\u001b[39;49m\u001b[43mtimeout\u001b[49m\u001b[43m,\u001b[49m\n\u001b[1;32m    887\u001b[0m \u001b[43m        \u001b[49m\u001b[43mpool_timeout\u001b[49m\u001b[38;5;241;43m=\u001b[39;49m\u001b[43mpool_timeout\u001b[49m\u001b[43m,\u001b[49m\n\u001b[1;32m    888\u001b[0m \u001b[43m        \u001b[49m\u001b[43mrelease_conn\u001b[49m\u001b[38;5;241;43m=\u001b[39;49m\u001b[43mrelease_conn\u001b[49m\u001b[43m,\u001b[49m\n\u001b[1;32m    889\u001b[0m \u001b[43m        \u001b[49m\u001b[43mchunked\u001b[49m\u001b[38;5;241;43m=\u001b[39;49m\u001b[43mchunked\u001b[49m\u001b[43m,\u001b[49m\n\u001b[1;32m    890\u001b[0m \u001b[43m        \u001b[49m\u001b[43mbody_pos\u001b[49m\u001b[38;5;241;43m=\u001b[39;49m\u001b[43mbody_pos\u001b[49m\u001b[43m,\u001b[49m\n\u001b[1;32m    891\u001b[0m \u001b[43m        \u001b[49m\u001b[38;5;241;43m*\u001b[39;49m\u001b[38;5;241;43m*\u001b[39;49m\u001b[43mresponse_kw\u001b[49m\n\u001b[1;32m    892\u001b[0m \u001b[43m    \u001b[49m\u001b[43m)\u001b[49m\n\u001b[1;32m    894\u001b[0m \u001b[38;5;28;01mreturn\u001b[39;00m response\n",
      "File \u001b[0;32m~/anaconda3/lib/python3.10/site-packages/urllib3/connectionpool.py:878\u001b[0m, in \u001b[0;36mHTTPConnectionPool.urlopen\u001b[0;34m(self, method, url, body, headers, retries, redirect, assert_same_host, timeout, pool_timeout, release_conn, chunked, body_pos, **response_kw)\u001b[0m\n\u001b[1;32m    877\u001b[0m     log\u001b[38;5;241m.\u001b[39mdebug(\u001b[38;5;124m\"\u001b[39m\u001b[38;5;124mRetry: \u001b[39m\u001b[38;5;132;01m%s\u001b[39;00m\u001b[38;5;124m\"\u001b[39m, url)\n\u001b[0;32m--> 878\u001b[0m     \u001b[38;5;28;01mreturn\u001b[39;00m \u001b[38;5;28;43mself\u001b[39;49m\u001b[38;5;241;43m.\u001b[39;49m\u001b[43murlopen\u001b[49m\u001b[43m(\u001b[49m\n\u001b[1;32m    879\u001b[0m \u001b[43m        \u001b[49m\u001b[43mmethod\u001b[49m\u001b[43m,\u001b[49m\n\u001b[1;32m    880\u001b[0m \u001b[43m        \u001b[49m\u001b[43murl\u001b[49m\u001b[43m,\u001b[49m\n\u001b[1;32m    881\u001b[0m \u001b[43m        \u001b[49m\u001b[43mbody\u001b[49m\u001b[43m,\u001b[49m\n\u001b[1;32m    882\u001b[0m \u001b[43m        \u001b[49m\u001b[43mheaders\u001b[49m\u001b[43m,\u001b[49m\n\u001b[1;32m    883\u001b[0m \u001b[43m        \u001b[49m\u001b[43mretries\u001b[49m\u001b[38;5;241;43m=\u001b[39;49m\u001b[43mretries\u001b[49m\u001b[43m,\u001b[49m\n\u001b[1;32m    884\u001b[0m \u001b[43m        \u001b[49m\u001b[43mredirect\u001b[49m\u001b[38;5;241;43m=\u001b[39;49m\u001b[43mredirect\u001b[49m\u001b[43m,\u001b[49m\n\u001b[1;32m    885\u001b[0m \u001b[43m        \u001b[49m\u001b[43massert_same_host\u001b[49m\u001b[38;5;241;43m=\u001b[39;49m\u001b[43massert_same_host\u001b[49m\u001b[43m,\u001b[49m\n\u001b[1;32m    886\u001b[0m \u001b[43m        \u001b[49m\u001b[43mtimeout\u001b[49m\u001b[38;5;241;43m=\u001b[39;49m\u001b[43mtimeout\u001b[49m\u001b[43m,\u001b[49m\n\u001b[1;32m    887\u001b[0m \u001b[43m        \u001b[49m\u001b[43mpool_timeout\u001b[49m\u001b[38;5;241;43m=\u001b[39;49m\u001b[43mpool_timeout\u001b[49m\u001b[43m,\u001b[49m\n\u001b[1;32m    888\u001b[0m \u001b[43m        \u001b[49m\u001b[43mrelease_conn\u001b[49m\u001b[38;5;241;43m=\u001b[39;49m\u001b[43mrelease_conn\u001b[49m\u001b[43m,\u001b[49m\n\u001b[1;32m    889\u001b[0m \u001b[43m        \u001b[49m\u001b[43mchunked\u001b[49m\u001b[38;5;241;43m=\u001b[39;49m\u001b[43mchunked\u001b[49m\u001b[43m,\u001b[49m\n\u001b[1;32m    890\u001b[0m \u001b[43m        \u001b[49m\u001b[43mbody_pos\u001b[49m\u001b[38;5;241;43m=\u001b[39;49m\u001b[43mbody_pos\u001b[49m\u001b[43m,\u001b[49m\n\u001b[1;32m    891\u001b[0m \u001b[43m        \u001b[49m\u001b[38;5;241;43m*\u001b[39;49m\u001b[38;5;241;43m*\u001b[39;49m\u001b[43mresponse_kw\u001b[49m\n\u001b[1;32m    892\u001b[0m \u001b[43m    \u001b[49m\u001b[43m)\u001b[49m\n\u001b[1;32m    894\u001b[0m \u001b[38;5;28;01mreturn\u001b[39;00m response\n",
      "File \u001b[0;32m~/anaconda3/lib/python3.10/site-packages/urllib3/connectionpool.py:878\u001b[0m, in \u001b[0;36mHTTPConnectionPool.urlopen\u001b[0;34m(self, method, url, body, headers, retries, redirect, assert_same_host, timeout, pool_timeout, release_conn, chunked, body_pos, **response_kw)\u001b[0m\n\u001b[1;32m    877\u001b[0m     log\u001b[38;5;241m.\u001b[39mdebug(\u001b[38;5;124m\"\u001b[39m\u001b[38;5;124mRetry: \u001b[39m\u001b[38;5;132;01m%s\u001b[39;00m\u001b[38;5;124m\"\u001b[39m, url)\n\u001b[0;32m--> 878\u001b[0m     \u001b[38;5;28;01mreturn\u001b[39;00m \u001b[38;5;28;43mself\u001b[39;49m\u001b[38;5;241;43m.\u001b[39;49m\u001b[43murlopen\u001b[49m\u001b[43m(\u001b[49m\n\u001b[1;32m    879\u001b[0m \u001b[43m        \u001b[49m\u001b[43mmethod\u001b[49m\u001b[43m,\u001b[49m\n\u001b[1;32m    880\u001b[0m \u001b[43m        \u001b[49m\u001b[43murl\u001b[49m\u001b[43m,\u001b[49m\n\u001b[1;32m    881\u001b[0m \u001b[43m        \u001b[49m\u001b[43mbody\u001b[49m\u001b[43m,\u001b[49m\n\u001b[1;32m    882\u001b[0m \u001b[43m        \u001b[49m\u001b[43mheaders\u001b[49m\u001b[43m,\u001b[49m\n\u001b[1;32m    883\u001b[0m \u001b[43m        \u001b[49m\u001b[43mretries\u001b[49m\u001b[38;5;241;43m=\u001b[39;49m\u001b[43mretries\u001b[49m\u001b[43m,\u001b[49m\n\u001b[1;32m    884\u001b[0m \u001b[43m        \u001b[49m\u001b[43mredirect\u001b[49m\u001b[38;5;241;43m=\u001b[39;49m\u001b[43mredirect\u001b[49m\u001b[43m,\u001b[49m\n\u001b[1;32m    885\u001b[0m \u001b[43m        \u001b[49m\u001b[43massert_same_host\u001b[49m\u001b[38;5;241;43m=\u001b[39;49m\u001b[43massert_same_host\u001b[49m\u001b[43m,\u001b[49m\n\u001b[1;32m    886\u001b[0m \u001b[43m        \u001b[49m\u001b[43mtimeout\u001b[49m\u001b[38;5;241;43m=\u001b[39;49m\u001b[43mtimeout\u001b[49m\u001b[43m,\u001b[49m\n\u001b[1;32m    887\u001b[0m \u001b[43m        \u001b[49m\u001b[43mpool_timeout\u001b[49m\u001b[38;5;241;43m=\u001b[39;49m\u001b[43mpool_timeout\u001b[49m\u001b[43m,\u001b[49m\n\u001b[1;32m    888\u001b[0m \u001b[43m        \u001b[49m\u001b[43mrelease_conn\u001b[49m\u001b[38;5;241;43m=\u001b[39;49m\u001b[43mrelease_conn\u001b[49m\u001b[43m,\u001b[49m\n\u001b[1;32m    889\u001b[0m \u001b[43m        \u001b[49m\u001b[43mchunked\u001b[49m\u001b[38;5;241;43m=\u001b[39;49m\u001b[43mchunked\u001b[49m\u001b[43m,\u001b[49m\n\u001b[1;32m    890\u001b[0m \u001b[43m        \u001b[49m\u001b[43mbody_pos\u001b[49m\u001b[38;5;241;43m=\u001b[39;49m\u001b[43mbody_pos\u001b[49m\u001b[43m,\u001b[49m\n\u001b[1;32m    891\u001b[0m \u001b[43m        \u001b[49m\u001b[38;5;241;43m*\u001b[39;49m\u001b[38;5;241;43m*\u001b[39;49m\u001b[43mresponse_kw\u001b[49m\n\u001b[1;32m    892\u001b[0m \u001b[43m    \u001b[49m\u001b[43m)\u001b[49m\n\u001b[1;32m    894\u001b[0m \u001b[38;5;28;01mreturn\u001b[39;00m response\n",
      "File \u001b[0;32m~/anaconda3/lib/python3.10/site-packages/urllib3/connectionpool.py:868\u001b[0m, in \u001b[0;36mHTTPConnectionPool.urlopen\u001b[0;34m(self, method, url, body, headers, retries, redirect, assert_same_host, timeout, pool_timeout, release_conn, chunked, body_pos, **response_kw)\u001b[0m\n\u001b[1;32m    867\u001b[0m \u001b[38;5;28;01mtry\u001b[39;00m:\n\u001b[0;32m--> 868\u001b[0m     retries \u001b[38;5;241m=\u001b[39m \u001b[43mretries\u001b[49m\u001b[38;5;241;43m.\u001b[39;49m\u001b[43mincrement\u001b[49m\u001b[43m(\u001b[49m\u001b[43mmethod\u001b[49m\u001b[43m,\u001b[49m\u001b[43m \u001b[49m\u001b[43murl\u001b[49m\u001b[43m,\u001b[49m\u001b[43m \u001b[49m\u001b[43mresponse\u001b[49m\u001b[38;5;241;43m=\u001b[39;49m\u001b[43mresponse\u001b[49m\u001b[43m,\u001b[49m\u001b[43m \u001b[49m\u001b[43m_pool\u001b[49m\u001b[38;5;241;43m=\u001b[39;49m\u001b[38;5;28;43mself\u001b[39;49m\u001b[43m)\u001b[49m\n\u001b[1;32m    869\u001b[0m \u001b[38;5;28;01mexcept\u001b[39;00m MaxRetryError:\n",
      "File \u001b[0;32m~/anaconda3/lib/python3.10/site-packages/urllib3/util/retry.py:592\u001b[0m, in \u001b[0;36mRetry.increment\u001b[0;34m(self, method, url, response, error, _pool, _stacktrace)\u001b[0m\n\u001b[1;32m    591\u001b[0m \u001b[38;5;28;01mif\u001b[39;00m new_retry\u001b[38;5;241m.\u001b[39mis_exhausted():\n\u001b[0;32m--> 592\u001b[0m     \u001b[38;5;28;01mraise\u001b[39;00m MaxRetryError(_pool, url, error \u001b[38;5;129;01mor\u001b[39;00m ResponseError(cause))\n\u001b[1;32m    594\u001b[0m log\u001b[38;5;241m.\u001b[39mdebug(\u001b[38;5;124m\"\u001b[39m\u001b[38;5;124mIncremented Retry for (url=\u001b[39m\u001b[38;5;124m'\u001b[39m\u001b[38;5;132;01m%s\u001b[39;00m\u001b[38;5;124m'\u001b[39m\u001b[38;5;124m): \u001b[39m\u001b[38;5;132;01m%r\u001b[39;00m\u001b[38;5;124m\"\u001b[39m, url, new_retry)\n",
      "\u001b[0;31mMaxRetryError\u001b[0m: HTTPSConnectionPool(host='api.spotify.com', port=443): Max retries exceeded with url: /v1/audio-features/?ids=6dF0As4WbZDImIEfDfwXOb (Caused by ResponseError('too many 429 error responses'))",
      "\nDuring handling of the above exception, another exception occurred:\n",
      "\u001b[0;31mRetryError\u001b[0m                                Traceback (most recent call last)",
      "File \u001b[0;32m~/anaconda3/lib/python3.10/site-packages/spotipy/client.py:266\u001b[0m, in \u001b[0;36mSpotify._internal_call\u001b[0;34m(self, method, url, payload, params)\u001b[0m\n\u001b[1;32m    265\u001b[0m \u001b[38;5;28;01mtry\u001b[39;00m:\n\u001b[0;32m--> 266\u001b[0m     response \u001b[38;5;241m=\u001b[39m \u001b[38;5;28;43mself\u001b[39;49m\u001b[38;5;241;43m.\u001b[39;49m\u001b[43m_session\u001b[49m\u001b[38;5;241;43m.\u001b[39;49m\u001b[43mrequest\u001b[49m\u001b[43m(\u001b[49m\n\u001b[1;32m    267\u001b[0m \u001b[43m        \u001b[49m\u001b[43mmethod\u001b[49m\u001b[43m,\u001b[49m\u001b[43m \u001b[49m\u001b[43murl\u001b[49m\u001b[43m,\u001b[49m\u001b[43m \u001b[49m\u001b[43mheaders\u001b[49m\u001b[38;5;241;43m=\u001b[39;49m\u001b[43mheaders\u001b[49m\u001b[43m,\u001b[49m\u001b[43m \u001b[49m\u001b[43mproxies\u001b[49m\u001b[38;5;241;43m=\u001b[39;49m\u001b[38;5;28;43mself\u001b[39;49m\u001b[38;5;241;43m.\u001b[39;49m\u001b[43mproxies\u001b[49m\u001b[43m,\u001b[49m\n\u001b[1;32m    268\u001b[0m \u001b[43m        \u001b[49m\u001b[43mtimeout\u001b[49m\u001b[38;5;241;43m=\u001b[39;49m\u001b[38;5;28;43mself\u001b[39;49m\u001b[38;5;241;43m.\u001b[39;49m\u001b[43mrequests_timeout\u001b[49m\u001b[43m,\u001b[49m\u001b[43m \u001b[49m\u001b[38;5;241;43m*\u001b[39;49m\u001b[38;5;241;43m*\u001b[39;49m\u001b[43margs\u001b[49m\n\u001b[1;32m    269\u001b[0m \u001b[43m    \u001b[49m\u001b[43m)\u001b[49m\n\u001b[1;32m    271\u001b[0m     response\u001b[38;5;241m.\u001b[39mraise_for_status()\n",
      "File \u001b[0;32m~/anaconda3/lib/python3.10/site-packages/requests/sessions.py:587\u001b[0m, in \u001b[0;36mSession.request\u001b[0;34m(self, method, url, params, data, headers, cookies, files, auth, timeout, allow_redirects, proxies, hooks, stream, verify, cert, json)\u001b[0m\n\u001b[1;32m    586\u001b[0m send_kwargs\u001b[38;5;241m.\u001b[39mupdate(settings)\n\u001b[0;32m--> 587\u001b[0m resp \u001b[38;5;241m=\u001b[39m \u001b[38;5;28;43mself\u001b[39;49m\u001b[38;5;241;43m.\u001b[39;49m\u001b[43msend\u001b[49m\u001b[43m(\u001b[49m\u001b[43mprep\u001b[49m\u001b[43m,\u001b[49m\u001b[43m \u001b[49m\u001b[38;5;241;43m*\u001b[39;49m\u001b[38;5;241;43m*\u001b[39;49m\u001b[43msend_kwargs\u001b[49m\u001b[43m)\u001b[49m\n\u001b[1;32m    589\u001b[0m \u001b[38;5;28;01mreturn\u001b[39;00m resp\n",
      "File \u001b[0;32m~/anaconda3/lib/python3.10/site-packages/requests/sessions.py:701\u001b[0m, in \u001b[0;36mSession.send\u001b[0;34m(self, request, **kwargs)\u001b[0m\n\u001b[1;32m    700\u001b[0m \u001b[38;5;66;03m# Send the request\u001b[39;00m\n\u001b[0;32m--> 701\u001b[0m r \u001b[38;5;241m=\u001b[39m \u001b[43madapter\u001b[49m\u001b[38;5;241;43m.\u001b[39;49m\u001b[43msend\u001b[49m\u001b[43m(\u001b[49m\u001b[43mrequest\u001b[49m\u001b[43m,\u001b[49m\u001b[43m \u001b[49m\u001b[38;5;241;43m*\u001b[39;49m\u001b[38;5;241;43m*\u001b[39;49m\u001b[43mkwargs\u001b[49m\u001b[43m)\u001b[49m\n\u001b[1;32m    703\u001b[0m \u001b[38;5;66;03m# Total elapsed time of the request (approximately)\u001b[39;00m\n",
      "File \u001b[0;32m~/anaconda3/lib/python3.10/site-packages/requests/adapters.py:556\u001b[0m, in \u001b[0;36mHTTPAdapter.send\u001b[0;34m(self, request, stream, timeout, verify, cert, proxies)\u001b[0m\n\u001b[1;32m    555\u001b[0m \u001b[38;5;28;01mif\u001b[39;00m \u001b[38;5;28misinstance\u001b[39m(e\u001b[38;5;241m.\u001b[39mreason, ResponseError):\n\u001b[0;32m--> 556\u001b[0m     \u001b[38;5;28;01mraise\u001b[39;00m RetryError(e, request\u001b[38;5;241m=\u001b[39mrequest)\n\u001b[1;32m    558\u001b[0m \u001b[38;5;28;01mif\u001b[39;00m \u001b[38;5;28misinstance\u001b[39m(e\u001b[38;5;241m.\u001b[39mreason, _ProxyError):\n",
      "\u001b[0;31mRetryError\u001b[0m: HTTPSConnectionPool(host='api.spotify.com', port=443): Max retries exceeded with url: /v1/audio-features/?ids=6dF0As4WbZDImIEfDfwXOb (Caused by ResponseError('too many 429 error responses'))",
      "\nDuring handling of the above exception, another exception occurred:\n",
      "\u001b[0;31mSpotifyException\u001b[0m                          Traceback (most recent call last)",
      "Cell \u001b[0;32mIn[61], line 4\u001b[0m\n\u001b[1;32m      2\u001b[0m counter \u001b[38;5;241m=\u001b[39m \u001b[38;5;241m0\u001b[39m\n\u001b[1;32m      3\u001b[0m \u001b[38;5;28;01mfor\u001b[39;00m i \u001b[38;5;129;01min\u001b[39;00m df_playlist1[\u001b[38;5;124m'\u001b[39m\u001b[38;5;124mfeatures\u001b[39m\u001b[38;5;124m'\u001b[39m]:\n\u001b[0;32m----> 4\u001b[0m     newlist\u001b[38;5;241m.\u001b[39mappend(\u001b[43msp\u001b[49m\u001b[38;5;241;43m.\u001b[39;49m\u001b[43maudio_features\u001b[49m\u001b[43m(\u001b[49m\u001b[43mi\u001b[49m\u001b[43m)\u001b[49m)\n\u001b[1;32m      6\u001b[0m     \u001b[38;5;28;01mif\u001b[39;00m counter \u001b[38;5;241m>\u001b[39m \u001b[38;5;241m30\u001b[39m:\n\u001b[1;32m      7\u001b[0m         sleep(randint(\u001b[38;5;241m30\u001b[39m,\u001b[38;5;241m40\u001b[39m))\n",
      "File \u001b[0;32m~/anaconda3/lib/python3.10/site-packages/spotipy/client.py:1734\u001b[0m, in \u001b[0;36mSpotify.audio_features\u001b[0;34m(self, tracks)\u001b[0m\n\u001b[1;32m   1732\u001b[0m \u001b[38;5;28;01mif\u001b[39;00m \u001b[38;5;28misinstance\u001b[39m(tracks, \u001b[38;5;28mstr\u001b[39m):\n\u001b[1;32m   1733\u001b[0m     trackid \u001b[38;5;241m=\u001b[39m \u001b[38;5;28mself\u001b[39m\u001b[38;5;241m.\u001b[39m_get_id(\u001b[38;5;124m\"\u001b[39m\u001b[38;5;124mtrack\u001b[39m\u001b[38;5;124m\"\u001b[39m, tracks)\n\u001b[0;32m-> 1734\u001b[0m     results \u001b[38;5;241m=\u001b[39m \u001b[38;5;28;43mself\u001b[39;49m\u001b[38;5;241;43m.\u001b[39;49m\u001b[43m_get\u001b[49m\u001b[43m(\u001b[49m\u001b[38;5;124;43m\"\u001b[39;49m\u001b[38;5;124;43maudio-features/?ids=\u001b[39;49m\u001b[38;5;124;43m\"\u001b[39;49m\u001b[43m \u001b[49m\u001b[38;5;241;43m+\u001b[39;49m\u001b[43m \u001b[49m\u001b[43mtrackid\u001b[49m\u001b[43m)\u001b[49m\n\u001b[1;32m   1735\u001b[0m \u001b[38;5;28;01melse\u001b[39;00m:\n\u001b[1;32m   1736\u001b[0m     tlist \u001b[38;5;241m=\u001b[39m [\u001b[38;5;28mself\u001b[39m\u001b[38;5;241m.\u001b[39m_get_id(\u001b[38;5;124m\"\u001b[39m\u001b[38;5;124mtrack\u001b[39m\u001b[38;5;124m\"\u001b[39m, t) \u001b[38;5;28;01mfor\u001b[39;00m t \u001b[38;5;129;01min\u001b[39;00m tracks]\n",
      "File \u001b[0;32m~/anaconda3/lib/python3.10/site-packages/spotipy/client.py:323\u001b[0m, in \u001b[0;36mSpotify._get\u001b[0;34m(self, url, args, payload, **kwargs)\u001b[0m\n\u001b[1;32m    320\u001b[0m \u001b[38;5;28;01mif\u001b[39;00m args:\n\u001b[1;32m    321\u001b[0m     kwargs\u001b[38;5;241m.\u001b[39mupdate(args)\n\u001b[0;32m--> 323\u001b[0m \u001b[38;5;28;01mreturn\u001b[39;00m \u001b[38;5;28;43mself\u001b[39;49m\u001b[38;5;241;43m.\u001b[39;49m\u001b[43m_internal_call\u001b[49m\u001b[43m(\u001b[49m\u001b[38;5;124;43m\"\u001b[39;49m\u001b[38;5;124;43mGET\u001b[39;49m\u001b[38;5;124;43m\"\u001b[39;49m\u001b[43m,\u001b[49m\u001b[43m \u001b[49m\u001b[43murl\u001b[49m\u001b[43m,\u001b[49m\u001b[43m \u001b[49m\u001b[43mpayload\u001b[49m\u001b[43m,\u001b[49m\u001b[43m \u001b[49m\u001b[43mkwargs\u001b[49m\u001b[43m)\u001b[49m\n",
      "File \u001b[0;32m~/anaconda3/lib/python3.10/site-packages/spotipy/client.py:307\u001b[0m, in \u001b[0;36mSpotify._internal_call\u001b[0;34m(self, method, url, payload, params)\u001b[0m\n\u001b[1;32m    305\u001b[0m     \u001b[38;5;28;01mexcept\u001b[39;00m (\u001b[38;5;167;01mIndexError\u001b[39;00m, \u001b[38;5;167;01mAttributeError\u001b[39;00m):\n\u001b[1;32m    306\u001b[0m         reason \u001b[38;5;241m=\u001b[39m \u001b[38;5;28;01mNone\u001b[39;00m\n\u001b[0;32m--> 307\u001b[0m     \u001b[38;5;28;01mraise\u001b[39;00m SpotifyException(\n\u001b[1;32m    308\u001b[0m         \u001b[38;5;241m429\u001b[39m,\n\u001b[1;32m    309\u001b[0m         \u001b[38;5;241m-\u001b[39m\u001b[38;5;241m1\u001b[39m,\n\u001b[1;32m    310\u001b[0m         \u001b[38;5;124m\"\u001b[39m\u001b[38;5;132;01m%s\u001b[39;00m\u001b[38;5;124m:\u001b[39m\u001b[38;5;130;01m\\n\u001b[39;00m\u001b[38;5;124m \u001b[39m\u001b[38;5;132;01m%s\u001b[39;00m\u001b[38;5;124m\"\u001b[39m \u001b[38;5;241m%\u001b[39m (request\u001b[38;5;241m.\u001b[39mpath_url, \u001b[38;5;124m\"\u001b[39m\u001b[38;5;124mMax Retries\u001b[39m\u001b[38;5;124m\"\u001b[39m),\n\u001b[1;32m    311\u001b[0m         reason\u001b[38;5;241m=\u001b[39mreason\n\u001b[1;32m    312\u001b[0m     )\n\u001b[1;32m    313\u001b[0m \u001b[38;5;28;01mexcept\u001b[39;00m \u001b[38;5;167;01mValueError\u001b[39;00m:\n\u001b[1;32m    314\u001b[0m     results \u001b[38;5;241m=\u001b[39m \u001b[38;5;28;01mNone\u001b[39;00m\n",
      "\u001b[0;31mSpotifyException\u001b[0m: http status: 429, code:-1 - /v1/audio-features/?ids=6dF0As4WbZDImIEfDfwXOb:\n Max Retries, reason: too many 429 error responses"
     ]
    }
   ],
   "source": [
    "newlist = []\n",
    "counter = 0\n",
    "for i in df_playlist1['features']:\n",
    "    newlist.append(sp.audio_features(i))\n",
    "    \n",
    "    if counter > 30:\n",
    "        sleep(randint(30,40))\n",
    "        counter = 0\n",
    "    else:\n",
    "        counter +=1"
   ]
  },
  {
   "cell_type": "markdown",
   "id": "d24bda0a",
   "metadata": {},
   "source": [
    "Now we normalise using the json_normalize() function, then we apply them to individual columns and convert them to a dataframe."
   ]
  },
  {
   "cell_type": "code",
   "execution_count": null,
   "id": "50aa8c26",
   "metadata": {
    "scrolled": true
   },
   "outputs": [],
   "source": [
    "df_playlist1['features'] = json_normalize(df_playlist1['features'])\n",
    "df_playlist2['features'] = json_normalize(df_playlist2['features'])"
   ]
  },
  {
   "cell_type": "code",
   "execution_count": null,
   "id": "3ecf996a",
   "metadata": {},
   "outputs": [],
   "source": [
    "df_playlist1"
   ]
  },
  {
   "cell_type": "code",
   "execution_count": null,
   "id": "9a8b4b22",
   "metadata": {},
   "outputs": [],
   "source": [
    "df_playlist2"
   ]
  },
  {
   "cell_type": "code",
   "execution_count": null,
   "id": "a3267cf1",
   "metadata": {},
   "outputs": [],
   "source": [
    "#Now we are going to drop or remove missing values\n",
    "\n",
    "playlist1features = pd.DataFrame.from_records(df_playlist1.features.dropna().tolist())\n",
    "playlist2features = pd.DataFrame.from_records(df_playlist2.features.dropna().tolist())"
   ]
  },
  {
   "cell_type": "code",
   "execution_count": null,
   "id": "6737df6b",
   "metadata": {},
   "outputs": [],
   "source": [
    "#Now is time to concat dataframes and drop features column"
   ]
  },
  {
   "cell_type": "code",
   "execution_count": null,
   "id": "680cb6fe",
   "metadata": {},
   "outputs": [],
   "source": [
    "df_1 = pd.concat([playlist1features, playlist2features], axis=0)"
   ]
  },
  {
   "cell_type": "code",
   "execution_count": null,
   "id": "899c7510",
   "metadata": {},
   "outputs": [],
   "source": [
    "#..and save it in a new .csv\n",
    "\n",
    "df_1.to_csv('song_recommender_playlist_clusters.csv',index=False)"
   ]
  },
  {
   "cell_type": "code",
   "execution_count": null,
   "id": "fa09608b",
   "metadata": {},
   "outputs": [],
   "source": []
  },
  {
   "cell_type": "code",
   "execution_count": null,
   "id": "2d348833",
   "metadata": {},
   "outputs": [],
   "source": []
  }
 ],
 "metadata": {
  "kernelspec": {
   "display_name": "Python 3 (ipykernel)",
   "language": "python",
   "name": "python3"
  },
  "language_info": {
   "codemirror_mode": {
    "name": "ipython",
    "version": 3
   },
   "file_extension": ".py",
   "mimetype": "text/x-python",
   "name": "python",
   "nbconvert_exporter": "python",
   "pygments_lexer": "ipython3",
   "version": "3.10.9"
  }
 },
 "nbformat": 4,
 "nbformat_minor": 5
}
